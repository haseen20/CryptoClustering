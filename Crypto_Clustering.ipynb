{
 "cells": [
  {
   "cell_type": "code",
   "execution_count": null,
   "id": "e518942e-300c-4064-b2f7-eb600e53f24a",
   "metadata": {},
   "outputs": [],
   "source": [
    "import pandas as pd\n",
    "\n",
    "# Load the dataset\n",
    "crypto_df = pd.read_csv('crypto_market_data.csv')\n",
    "\n",
    "# Display summary statistics\n",
    "crypto_df.describe()\n"
   ]
  },
  {
   "cell_type": "code",
   "execution_count": null,
   "id": "fd9a2c3d-c198-488e-b25f-fbcb9568315a",
   "metadata": {},
   "outputs": [],
   "source": [
    "from sklearn.preprocessing import StandardScaler\n",
    "\n",
    "# Select numeric columns for scaling\n",
    "features = crypto_df.drop(columns=[\"coin_id\"])\n",
    "scaler = StandardScaler()\n",
    "scaled_data = scaler.fit_transform(features)\n",
    "\n",
    "# Create DataFrame with scaled data and set 'coin_id' as index\n",
    "scaled_df = pd.DataFrame(scaled_data, index=crypto_df['coin_id'], columns=features.columns)\n",
    "\n",
    "# Display the first 5 rows of the scaled DataFrame\n",
    "scaled_df.head()\n"
   ]
  },
  {
   "cell_type": "code",
   "execution_count": null,
   "id": "e4cf4b41-9ca7-4684-ad37-d6d5b7d4fc25",
   "metadata": {},
   "outputs": [],
   "source": [
    "from sklearn.cluster import KMeans\n",
    "import matplotlib.pyplot as plt\n",
    "\n",
    "# Elbow method to find the best k\n",
    "inertia = []\n",
    "k_values = list(range(1, 12))\n",
    "\n",
    "for k in k_values:\n",
    "    kmeans = KMeans(n_clusters=k, random_state=0)\n",
    "    kmeans.fit(scaled_df)\n",
    "    inertia.append(kmeans.inertia_)\n",
    "\n",
    "# Plot the elbow curve\n",
    "plt.plot(k_values, inertia, marker='o')\n",
    "plt.xlabel('Number of clusters (k)')\n",
    "plt.ylabel('Inertia')\n",
    "plt.title('Elbow Method for Optimal k')\n",
    "plt.show()\n"
   ]
  },
  {
   "cell_type": "code",
   "execution_count": null,
   "id": "8a88114c-5fe0-476b-a95f-b358ddebc05d",
   "metadata": {},
   "outputs": [],
   "source": [
    "# Assume the best k found was 4 (adjust according to the elbow plot)\n",
    "k = 4\n",
    "kmeans = KMeans(n_clusters=k, random_state=0)\n",
    "clusters = kmeans.fit_predict(scaled_df)\n",
    "\n",
    "# Add clusters to the scaled DataFrame\n",
    "scaled_df['Cluster'] = clusters\n",
    "\n",
    "# Visualize clusters\n",
    "import hvplot.pandas\n",
    "\n",
    "scaled_df.hvplot.scatter(x='price_change_percentage_24h', \n",
    "                         y='price_change_percentage_7d', \n",
    "                         by='Cluster', \n",
    "                         hover_cols=['coin_id'], \n",
    "                         title='Cryptocurrency Clusters (k=4)')\n"
   ]
  },
  {
   "cell_type": "code",
   "execution_count": null,
   "id": "dabb59a9-7bc4-4eb6-b656-de8805e0efec",
   "metadata": {},
   "outputs": [],
   "source": [
    "from sklearn.decomposition import PCA\n",
    "\n",
    "# Reduce to 3 principal components\n",
    "pca = PCA(n_components=3)\n",
    "pca_data = pca.fit_transform(scaled_df.drop(columns=[\"Cluster\"]))\n",
    "\n",
    "# Explained variance\n",
    "explained_variance = pca.explained_variance_ratio_\n",
    "total_explained_variance = sum(explained_variance)\n",
    "\n",
    "print(f'Total explained variance: {total_explained_variance}')\n",
    "\n",
    "# Create DataFrame with PCA data\n",
    "pca_df = pd.DataFrame(pca_data, index=scaled_df.index, columns=[\"PC1\", \"PC2\", \"PC3\"])\n",
    "\n",
    "# Display the first 5 rows\n",
    "pca_df.head()\n"
   ]
  },
  {
   "cell_type": "code",
   "execution_count": null,
   "id": "575d199e-80bc-4b02-b9a4-fc64c6ebfcb5",
   "metadata": {},
   "outputs": [],
   "source": [
    "# Elbow method for PCA data\n",
    "inertia_pca = []\n",
    "\n",
    "for k in k_values:\n",
    "    kmeans_pca = KMeans(n_clusters=k, random_state=0)\n",
    "    kmeans_pca.fit(pca_df)\n",
    "    inertia_pca.append(kmeans_pca.inertia_)\n",
    "\n",
    "# Plot elbow curve for PCA data\n",
    "plt.plot(k_values, inertia_pca, marker='o')\n",
    "plt.xlabel('Number of clusters (k)')\n",
    "plt.ylabel('Inertia')\n",
    "plt.title('Elbow Method for Optimal k (PCA Data)')\n",
    "plt.show()\n",
    "\n",
    "# Assuming the best k is found (e.g., 3)\n",
    "k_pca = 3\n",
    "kmeans_pca = KMeans(n_clusters=k_pca, random_state=0)\n",
    "clusters_pca = kmeans_pca.fit_predict(pca_df)\n",
    "\n",
    "# Add clusters to PCA DataFrame\n",
    "pca_df['Cluster'] = clusters_pca\n",
    "\n",
    "# Plot clusters using hvPlot\n",
    "pca_df.hvplot.scatter(x='PC1', \n",
    "                      y='PC2', \n",
    "                      by='Cluster', \n",
    "                      hover_cols=['coin_id'], \n",
    "                      title='Cryptocurrency Clusters with PCA (k=3)')\n"
   ]
  },
  {
   "cell_type": "code",
   "execution_count": null,
   "id": "c9e807cd-9d67-4375-8a52-1d9fba6df81d",
   "metadata": {},
   "outputs": [],
   "source": []
  }
 ],
 "metadata": {
  "kernelspec": {
   "display_name": "Python 3 (ipykernel)",
   "language": "python",
   "name": "python3"
  },
  "language_info": {
   "codemirror_mode": {
    "name": "ipython",
    "version": 3
   },
   "file_extension": ".py",
   "mimetype": "text/x-python",
   "name": "python",
   "nbconvert_exporter": "python",
   "pygments_lexer": "ipython3",
   "version": "3.12.4"
  }
 },
 "nbformat": 4,
 "nbformat_minor": 5
}
